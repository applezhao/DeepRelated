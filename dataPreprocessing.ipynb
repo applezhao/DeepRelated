{
  "nbformat": 4,
  "nbformat_minor": 0,
  "metadata": {
    "colab": {
      "name": "Untitled0.ipynb",
      "version": "0.3.2",
      "provenance": [],
      "include_colab_link": true
    },
    "kernelspec": {
      "name": "python2",
      "display_name": "Python 2"
    }
  },
  "cells": [
    {
      "cell_type": "markdown",
      "metadata": {
        "id": "view-in-github",
        "colab_type": "text"
      },
      "source": [
        "<a href=\"https://colab.research.google.com/github/applezhao/DeepRelated/blob/master/dataPreprocessing.ipynb\" target=\"_parent\"><img src=\"https://colab.research.google.com/assets/colab-badge.svg\" alt=\"Open In Colab\"/></a>"
      ]
    },
    {
      "metadata": {
        "id": "AE3JgMgiLZZs",
        "colab_type": "text"
      },
      "cell_type": "markdown",
      "source": [
        "# Data preprossing (It should be executed only once!!!!!!!)"
      ]
    },
    {
      "metadata": {
        "id": "7UHaH5Ba2MQM",
        "colab_type": "code",
        "colab": {
          "base_uri": "https://localhost:8080/",
          "height": 34
        },
        "outputId": "40e7a6a9-18e2-4fa7-812d-aa1744c5d513"
      },
      "cell_type": "code",
      "source": [
        "from google.colab import drive\n",
        "drive.mount('/content/dgrive')"
      ],
      "execution_count": 3,
      "outputs": [
        {
          "output_type": "stream",
          "text": [
            "Mounted at /content/dgrive\n"
          ],
          "name": "stdout"
        }
      ]
    },
    {
      "metadata": {
        "id": "dlH6lqcPa_pQ",
        "colab_type": "text"
      },
      "cell_type": "markdown",
      "source": [
        "**1. Mask tranparent pixels with red color**\n"
      ]
    },
    {
      "metadata": {
        "id": "R8ty6u5vU0we",
        "colab_type": "code",
        "colab": {}
      },
      "cell_type": "code",
      "source": [
        "#!pip install -U -q PIL\n",
        "import os\n",
        "import shutil\n",
        "import random, os, time\n",
        "from PIL import Image\n",
        "def genInput(imageOriDIr, imageName, targetDir):\n",
        "  image = Image.open(os.path.join(imageOriDIr, imageName))\n",
        "  #save(os.path.join(targetDir, imageName))\n",
        "  pixeldata = list(image.getdata())\n",
        "\n",
        "  for i,pixel in enumerate(pixeldata):\n",
        "    if pixel[3] < 200:\n",
        "      pixeldata[i] = (255,0,0,pixel[3])\n",
        "\n",
        "  image.putdata(pixeldata)\n",
        "  image.save(os.path.join(targetDir, imageName))\n",
        "\n",
        "\n",
        "\n",
        "for  root, dirs, files in os.walk(r'/content/dgrive/My Drive/colabData/originalData') :\n",
        "  for name in files:\n",
        "    imagePath = os.path.join(root, name)\n",
        "    #print imagePath\n",
        "    genInput(root, name, r'/content/dgrive/My Drive/colabData/redMaskedData')"
      ],
      "execution_count": 0,
      "outputs": []
    },
    {
      "metadata": {
        "id": "wZ8bwhOlbZk8",
        "colab_type": "text"
      },
      "cell_type": "markdown",
      "source": [
        "**2. Crop / resize / flip image.**"
      ]
    },
    {
      "metadata": {
        "id": "i6jb-C2abo4A",
        "colab_type": "code",
        "colab": {}
      },
      "cell_type": "code",
      "source": [
        "import os\n",
        "import shutil\n",
        "import random, os, time\n",
        "from PIL import Image\n",
        "nameIndex = 0\n",
        "def cropImage(imagePath, imageInutPath, tilesPerImage, targetW, targetH, targetDir):\n",
        "    global nameIndex\n",
        "    imOri = Image.open(imagePath)\n",
        "    imInput = Image.open(imageInutPath)\n",
        "    print imagePath\n",
        "    size = 256, 256\n",
        "    for i in range(1, tilesPerImage + 1):\n",
        "        print nameIndex\n",
        "        w, h = imOri.size\n",
        "        x = random.randint(0, w - targetW - 1)\n",
        "        y = random.randint(0, h - targetH - 1)\n",
        "        print (x, y, x+targetW, y+targetH, w, h)\n",
        "        oriCropped = imOri.crop((x, y, x+targetW, y+targetH))\n",
        "        oriCropped.thumbnail(size, Image.ANTIALIAS)\n",
        "        oriCropped.save(os.path.join(targetDir, \"output\", str(nameIndex)+\".png\"))\n",
        "        imCropped = imInput.crop((x, y, x+targetW, y+targetH))\n",
        "        imCropped.thumbnail(size, Image.ANTIALIAS)\n",
        "        imCropped.save(os.path.join(targetDir, \"input\", str(nameIndex)+\".png\"))\n",
        "        nameIndex += 1\n",
        "\n",
        "def flipImage(imagePath, imageInutPath, tilesPerImage, targetW, targetH, targetDir):\n",
        "    global nameIndex\n",
        "    imOri = Image.open(imagePath)\n",
        "    imInput = Image.open(imageInutPath)\n",
        "\n",
        "    size = targetW, targetH\n",
        "    imOri = imOri.transpose(Image.FLIP_LEFT_RIGHT)\n",
        "    imOri.thumbnail(size, Image.ANTIALIAS)\n",
        "    imOri.save(os.path.join(targetDir, \"output\", str(nameIndex)+\".png\"))\n",
        "    imInput = imInput.transpose(Image.FLIP_LEFT_RIGHT)\n",
        "    imInput.thumbnail(size, Image.ANTIALIAS)\n",
        "    imInput.save(os.path.join(targetDir, \"input\", str(nameIndex)+\".png\"))\n",
        "    nameIndex += 1\n",
        "\n",
        "def resizeImage(imagePath, imageInutPath, tilesPerImage, targetW, targetH, targetDir):\n",
        "    global nameIndex\n",
        "    imOri = Image.open(imagePath)\n",
        "    imInput = Image.open(imageInutPath)\n",
        "\n",
        "    size = targetW, targetH\n",
        "    imOri.thumbnail(size, Image.ANTIALIAS)\n",
        "    imOri.save(os.path.join(targetDir, \"output\", str(nameIndex)+\".png\"))\n",
        "    imInput.thumbnail(size, Image.ANTIALIAS)\n",
        "    imInput.save(os.path.join(targetDir, \"input\", str(nameIndex)+\".png\"))\n",
        "    nameIndex += 1\n",
        "\n",
        "for  root, dirs, files in os.walk('/content/dgrive/My Drive/colabData/originalData') :\n",
        "    for name in files:\n",
        "        imageOriPath = os.path.join(root, name)\n",
        "        imageInutPath = os.path.join('/content/dgrive/My Drive/colabData/redMaskedData', name)\n",
        "        cropImage(imageOriPath, imageInutPath, 2, 800, 800, '/content/dgrive/My Drive/colabData/augmentedData')\n",
        "        resizeImage(imageOriPath, imageInutPath, 30, 256, 256, '/content/dgrive/My Drive/colabData/augmentedData')\n",
        "        flipImage(imageOriPath, imageInutPath, 30, 256, 256, '/content/dgrive/My Drive/colabData/augmentedData')"
      ],
      "execution_count": 0,
      "outputs": []
    },
    {
      "metadata": {
        "id": "133PYE2AdQl2",
        "colab_type": "text"
      },
      "cell_type": "markdown",
      "source": [
        "**3. Combine image to 512*256.**"
      ]
    },
    {
      "metadata": {
        "id": "Qf_kE85SdYjU",
        "colab_type": "code",
        "colab": {}
      },
      "cell_type": "code",
      "source": [
        "import os\n",
        "import shutil\n",
        "import random, os, time\n",
        "from PIL import Image\n",
        "\n",
        "def concatImage(imageLeftPath, imageRightPath, name, targetDir):\n",
        "    imLeft = Image.open(imageLeftPath)\n",
        "    imRight = Image.open(imageRightPath)\n",
        "    w, h = imLeft.size\n",
        "\n",
        "    new_im = Image.new('RGBA', (w*2, h))\n",
        "    new_im.paste(imLeft, (0,0))\n",
        "    new_im.paste(imRight, (w,0))\n",
        "    new_im.save(os.path.join(targetDir, name))\n",
        "\n",
        "for  root, dirs, files in os.walk('/content/dgrive/My Drive/colabData/augmentedData/output') :\n",
        "    for name in files:\n",
        "        imageLeftPath = os.path.join(root, name)\n",
        "        imageRightPath = os.path.join('/content/dgrive/My Drive/colabData/augmentedData/input', name)\n",
        "        concatImage(imageLeftPath, imageRightPath, name, '/content/dgrive/My Drive/colabData/combinationData')"
      ],
      "execution_count": 0,
      "outputs": []
    },
    {
      "metadata": {
        "id": "uWnWtn7Qetx4",
        "colab_type": "text"
      },
      "cell_type": "markdown",
      "source": [
        "**4. Split train and val.**"
      ]
    },
    {
      "metadata": {
        "id": "vLC-9ZPae0A0",
        "colab_type": "code",
        "colab": {
          "base_uri": "https://localhost:8080/",
          "height": 69
        },
        "outputId": "d438705f-a8d5-4b33-ebd0-b3fee882fb1e"
      },
      "cell_type": "code",
      "source": [
        "import os\n",
        "import shutil\n",
        "import random, os, time\n",
        "from PIL import Image\n",
        "\n",
        "def splitDataset(fullfileList, targetDir):\n",
        "  i = 0\n",
        "  for each in fullfileList :\n",
        "    orifile = each\n",
        "    targetfile = os.path.join(targetDir, str(i)+\".png\")\n",
        "    shutil.copyfile(orifile, targetfile)\n",
        "    i+=1\n",
        "      \n",
        "\n",
        "allImageFiles = []\n",
        "for  root, dirs, files in os.walk('/content/dgrive/My Drive/colabData/combinationData') :\n",
        "    for name in files:\n",
        "        allImageFiles.append(os.path.join(root, name))\n",
        "random.shuffle(allImageFiles)\n",
        "\n",
        "train = allImageFiles[:int((len(allImageFiles)+1)*.80)]\n",
        "val = allImageFiles[int((len(allImageFiles)+1)*.80):]\n",
        "print len(train)\n",
        "print len(val)\n",
        "print len(allImageFiles)\n",
        "splitDataset(train, '/content/dgrive/My Drive/colabData/train')\n",
        "splitDataset(val, '/content/dgrive/My Drive/colabData/val')"
      ],
      "execution_count": 23,
      "outputs": [
        {
          "output_type": "stream",
          "text": [
            "202\n",
            "50\n",
            "252\n"
          ],
          "name": "stdout"
        }
      ]
    }
  ]
}